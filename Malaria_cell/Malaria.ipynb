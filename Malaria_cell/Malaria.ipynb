{
  "nbformat": 4,
  "nbformat_minor": 0,
  "metadata": {
    "colab": {
      "name": "Malaria.ipynb",
      "version": "0.3.2",
      "provenance": [],
      "collapsed_sections": []
    },
    "kernelspec": {
      "name": "python3",
      "display_name": "Python 3"
    },
    "accelerator": "GPU"
  },
  "cells": [
    {
      "metadata": {
        "id": "WIhblt2u4fmt",
        "colab_type": "code",
        "outputId": "85c83531-fc1c-44e1-cb05-44fde2b6f160",
        "colab": {
          "base_uri": "https://localhost:8080/",
          "height": 122
        }
      },
      "cell_type": "code",
      "source": [
        "from google.colab import drive\n",
        "drive.mount('/content/drive')"
      ],
      "execution_count": 1,
      "outputs": [
        {
          "output_type": "stream",
          "text": [
            "Go to this URL in a browser: https://accounts.google.com/o/oauth2/auth?client_id=947318989803-6bn6qk8qdgf4n4g3pfee6491hc0brc4i.apps.googleusercontent.com&redirect_uri=urn%3Aietf%3Awg%3Aoauth%3A2.0%3Aoob&scope=email%20https%3A%2F%2Fwww.googleapis.com%2Fauth%2Fdocs.test%20https%3A%2F%2Fwww.googleapis.com%2Fauth%2Fdrive%20https%3A%2F%2Fwww.googleapis.com%2Fauth%2Fdrive.photos.readonly%20https%3A%2F%2Fwww.googleapis.com%2Fauth%2Fpeopleapi.readonly&response_type=code\n",
            "\n",
            "Enter your authorization code:\n",
            "··········\n",
            "Mounted at /content/drive\n"
          ],
          "name": "stdout"
        }
      ]
    },
    {
      "metadata": {
        "id": "Gj4PBloG4jhm",
        "colab_type": "code",
        "outputId": "cb95db29-19c1-4ef1-e54b-dc123d595bb6",
        "colab": {
          "base_uri": "https://localhost:8080/",
          "height": 34
        }
      },
      "cell_type": "code",
      "source": [
        "%cd drive/My Drive"
      ],
      "execution_count": 2,
      "outputs": [
        {
          "output_type": "stream",
          "text": [
            "/content/drive/My Drive\n"
          ],
          "name": "stdout"
        }
      ]
    },
    {
      "metadata": {
        "id": "voVBMro94sB7",
        "colab_type": "code",
        "colab": {}
      },
      "cell_type": "code",
      "source": [
        "!unzip cell_images.zip"
      ],
      "execution_count": 0,
      "outputs": []
    },
    {
      "metadata": {
        "id": "kpYFf4xRVRcE",
        "colab_type": "code",
        "outputId": "f09c090d-b0f7-4e0a-be2d-e0db4dd1e429",
        "colab": {
          "base_uri": "https://localhost:8080/",
          "height": 34
        }
      },
      "cell_type": "code",
      "source": [
        "from keras.models import Sequential\n",
        "from keras.layers import Dense, Activation, Flatten, Dropout\n",
        "from keras.layers import Conv2D, MaxPooling2D, BatchNormalization\n",
        "from keras.preprocessing.image import ImageDataGenerator\n",
        "import keras.backend as K\n",
        "\n",
        "import matplotlib.pyplot as plt"
      ],
      "execution_count": 3,
      "outputs": [
        {
          "output_type": "stream",
          "text": [
            "Using TensorFlow backend.\n"
          ],
          "name": "stderr"
        }
      ]
    },
    {
      "metadata": {
        "id": "pbNJJodETCUz",
        "colab_type": "code",
        "colab": {}
      },
      "cell_type": "code",
      "source": [
        "train_dir = 'cell_images/train'\n",
        "validation_dir = 'cell_images/test'\n",
        "num_classes = 2\n",
        "batch_size = 64\n",
        "epochs = 200\n",
        "nb_train_samples = 22048\n",
        "nb_val_samples = 5510\n",
        "IMG_DIMS = (96 ,96 , 3)"
      ],
      "execution_count": 0,
      "outputs": []
    },
    {
      "metadata": {
        "id": "s49suwWIWoyq",
        "colab_type": "code",
        "colab": {}
      },
      "cell_type": "code",
      "source": [
        "if K.image_data_format == 'channel_first':\n",
        "  input_shape = (3, IMG_DIMS[0], IMG_DIMS[0])\n",
        "\n",
        "else:\n",
        "  input_shape = IMG_DIMS"
      ],
      "execution_count": 0,
      "outputs": []
    },
    {
      "metadata": {
        "id": "EErD59RPTrQf",
        "colab_type": "code",
        "colab": {}
      },
      "cell_type": "code",
      "source": [
        "# Use VGGNet like architecture, which is more compact than the original\n",
        "model = Sequential()\n",
        "model.add(Conv2D(32,(3,3),activation='relu',padding='same',\n",
        "                 input_shape=input_shape))\n",
        "model.add(BatchNormalization())\n",
        "model.add(MaxPooling2D(pool_size=(3,3)))\n",
        "model.add(Dropout(0.3))\n",
        "\n",
        "model.add(Conv2D(64,(3,3),activation='relu', padding='same'))\n",
        "model.add(BatchNormalization(axis=-1))\n",
        "model.add(Conv2D(64,(3,3),activation='relu', padding='same'))\n",
        "model.add(BatchNormalization(axis=-1))\n",
        "model.add(MaxPooling2D(pool_size=(2,2)))\n",
        "model.add(Dropout(0.5))\n",
        "\n",
        "model.add(Conv2D(128,(3,3),activation='relu', padding='same'))\n",
        "model.add(BatchNormalization(axis=-1))\n",
        "model.add(Conv2D(128,(3,3),activation='relu', padding='same'))\n",
        "model.add(BatchNormalization(axis=-1))\n",
        "model.add(MaxPooling2D(pool_size=(2,2)))\n",
        "model.add(Dropout(0.5))\n",
        "\n",
        "model.add(Flatten())\n",
        "model.add(Dense(1024,activation='relu'))\n",
        "model.add(BatchNormalization())\n",
        "model.add(Dropout(0.5))\n",
        "model.add(Dense(num_classes,activation='softmax'))"
      ],
      "execution_count": 0,
      "outputs": []
    },
    {
      "metadata": {
        "id": "ZOMJ3Hk3e4uV",
        "colab_type": "code",
        "colab": {}
      },
      "cell_type": "code",
      "source": [
        "model.compile(loss='categorical_crossentropy',\n",
        "              optimizer='rmsprop',\n",
        "              metrics=['accuracy'])"
      ],
      "execution_count": 0,
      "outputs": []
    },
    {
      "metadata": {
        "id": "XfD7flEIfOVy",
        "colab_type": "code",
        "outputId": "d7adb882-b5a4-4979-ef03-a265dd1dcc97",
        "colab": {
          "base_uri": "https://localhost:8080/",
          "height": 850
        }
      },
      "cell_type": "code",
      "source": [
        "model.summary()"
      ],
      "execution_count": 9,
      "outputs": [
        {
          "output_type": "stream",
          "text": [
            "_________________________________________________________________\n",
            "Layer (type)                 Output Shape              Param #   \n",
            "=================================================================\n",
            "conv2d_1 (Conv2D)            (None, 96, 96, 32)        896       \n",
            "_________________________________________________________________\n",
            "batch_normalization_1 (Batch (None, 96, 96, 32)        128       \n",
            "_________________________________________________________________\n",
            "max_pooling2d_1 (MaxPooling2 (None, 32, 32, 32)        0         \n",
            "_________________________________________________________________\n",
            "dropout_1 (Dropout)          (None, 32, 32, 32)        0         \n",
            "_________________________________________________________________\n",
            "conv2d_2 (Conv2D)            (None, 32, 32, 64)        18496     \n",
            "_________________________________________________________________\n",
            "batch_normalization_2 (Batch (None, 32, 32, 64)        256       \n",
            "_________________________________________________________________\n",
            "conv2d_3 (Conv2D)            (None, 32, 32, 64)        36928     \n",
            "_________________________________________________________________\n",
            "batch_normalization_3 (Batch (None, 32, 32, 64)        256       \n",
            "_________________________________________________________________\n",
            "max_pooling2d_2 (MaxPooling2 (None, 16, 16, 64)        0         \n",
            "_________________________________________________________________\n",
            "dropout_2 (Dropout)          (None, 16, 16, 64)        0         \n",
            "_________________________________________________________________\n",
            "conv2d_4 (Conv2D)            (None, 16, 16, 128)       73856     \n",
            "_________________________________________________________________\n",
            "batch_normalization_4 (Batch (None, 16, 16, 128)       512       \n",
            "_________________________________________________________________\n",
            "conv2d_5 (Conv2D)            (None, 16, 16, 128)       147584    \n",
            "_________________________________________________________________\n",
            "batch_normalization_5 (Batch (None, 16, 16, 128)       512       \n",
            "_________________________________________________________________\n",
            "max_pooling2d_3 (MaxPooling2 (None, 8, 8, 128)         0         \n",
            "_________________________________________________________________\n",
            "dropout_3 (Dropout)          (None, 8, 8, 128)         0         \n",
            "_________________________________________________________________\n",
            "flatten_1 (Flatten)          (None, 8192)              0         \n",
            "_________________________________________________________________\n",
            "dense_1 (Dense)              (None, 1024)              8389632   \n",
            "_________________________________________________________________\n",
            "batch_normalization_6 (Batch (None, 1024)              4096      \n",
            "_________________________________________________________________\n",
            "dropout_4 (Dropout)          (None, 1024)              0         \n",
            "_________________________________________________________________\n",
            "dense_2 (Dense)              (None, 2)                 2050      \n",
            "=================================================================\n",
            "Total params: 8,675,202\n",
            "Trainable params: 8,672,322\n",
            "Non-trainable params: 2,880\n",
            "_________________________________________________________________\n"
          ],
          "name": "stdout"
        }
      ]
    },
    {
      "metadata": {
        "id": "XLu5mPxpfXty",
        "colab_type": "code",
        "outputId": "6453ab85-2986-4bbc-b63f-51a4729630cd",
        "colab": {
          "base_uri": "https://localhost:8080/",
          "height": 34
        }
      },
      "cell_type": "code",
      "source": [
        "# Data augmentation for training set\n",
        "train_datagen = ImageDataGenerator(\n",
        "    rescale=1. / 255,\n",
        "    shear_range=0.2,\n",
        "    zoom_range=0.2,\n",
        "    horizontal_flip=True)\n",
        "\n",
        "# Rescale images in val set\n",
        "test_datagen = ImageDataGenerator(rescale=1. / 255)\n",
        "\n",
        "train_generator = train_datagen.flow_from_directory(\n",
        "    train_dir,\n",
        "    target_size=(IMG_DIMS[0], IMG_DIMS[1]),\n",
        "    batch_size=batch_size,\n",
        "    class_mode='categorical')"
      ],
      "execution_count": 26,
      "outputs": [
        {
          "output_type": "stream",
          "text": [
            "Found 22048 images belonging to 2 classes.\n"
          ],
          "name": "stdout"
        }
      ]
    },
    {
      "metadata": {
        "id": "jwcqgtP_hUKK",
        "colab_type": "code",
        "outputId": "cb189487-edd4-40f7-cd36-28fa472bf1d2",
        "colab": {
          "base_uri": "https://localhost:8080/",
          "height": 34
        }
      },
      "cell_type": "code",
      "source": [
        "validation_generator = test_datagen.flow_from_directory(\n",
        "    validation_dir,\n",
        "    target_size=(IMG_DIMS[0], IMG_DIMS[1]),\n",
        "    batch_size=batch_size,\n",
        "    class_mode='categorical')"
      ],
      "execution_count": 27,
      "outputs": [
        {
          "output_type": "stream",
          "text": [
            "Found 5510 images belonging to 2 classes.\n"
          ],
          "name": "stdout"
        }
      ]
    },
    {
      "metadata": {
        "id": "L6xeY-3ihjxE",
        "colab_type": "code",
        "outputId": "90398141-2d74-40b6-c308-bdb99b8afe82",
        "colab": {
          "base_uri": "https://localhost:8080/",
          "height": 561
        }
      },
      "cell_type": "code",
      "source": [
        "from keras.callbacks import EarlyStopping\n",
        "\n",
        "# Use ES to avoid overfitting\n",
        "early_stopping = EarlyStopping(patience=5)\n",
        "\n",
        "\n",
        "history=model.fit_generator(\n",
        "    train_generator,\n",
        "    steps_per_epoch=nb_train_samples//batch_size,\n",
        "    epochs=epochs,\n",
        "    validation_data=validation_generator,\n",
        "    validation_steps=nb_val_samples//batch_size,\n",
        "    callbacks=[early_stopping])\n",
        "\n",
        "model.save('model.h5')"
      ],
      "execution_count": 33,
      "outputs": [
        {
          "output_type": "stream",
          "text": [
            "Epoch 1/200\n",
            "344/344 [==============================] - 5566s 16s/step - loss: 0.6955 - acc: 0.7227 - val_loss: 0.2629 - val_acc: 0.9231\n",
            "Epoch 2/200\n",
            "344/344 [==============================] - 117s 341ms/step - loss: 0.2151 - acc: 0.9291 - val_loss: 0.2490 - val_acc: 0.9139\n",
            "Epoch 3/200\n",
            "344/344 [==============================] - 116s 338ms/step - loss: 0.1713 - acc: 0.9453 - val_loss: 0.1303 - val_acc: 0.9559\n",
            "Epoch 4/200\n",
            "344/344 [==============================] - 116s 338ms/step - loss: 0.1566 - acc: 0.9489 - val_loss: 0.1899 - val_acc: 0.9282\n",
            "Epoch 5/200\n",
            "344/344 [==============================] - 117s 341ms/step - loss: 0.1538 - acc: 0.9505 - val_loss: 0.1350 - val_acc: 0.9567\n",
            "Epoch 6/200\n",
            "344/344 [==============================] - 115s 333ms/step - loss: 0.1491 - acc: 0.9501 - val_loss: 0.1286 - val_acc: 0.9604\n",
            "Epoch 7/200\n",
            "344/344 [==============================] - 115s 334ms/step - loss: 0.1453 - acc: 0.9525 - val_loss: 0.1128 - val_acc: 0.9620\n",
            "Epoch 8/200\n",
            "344/344 [==============================] - 117s 339ms/step - loss: 0.1417 - acc: 0.9551 - val_loss: 0.1121 - val_acc: 0.9614\n",
            "Epoch 9/200\n",
            "344/344 [==============================] - 116s 337ms/step - loss: 0.1409 - acc: 0.9540 - val_loss: 0.1108 - val_acc: 0.9629\n",
            "Epoch 10/200\n",
            "344/344 [==============================] - 118s 342ms/step - loss: 0.1363 - acc: 0.9554 - val_loss: 0.1232 - val_acc: 0.9585\n",
            "Epoch 11/200\n",
            "344/344 [==============================] - 115s 334ms/step - loss: 0.1365 - acc: 0.9570 - val_loss: 0.1073 - val_acc: 0.9642\n",
            "Epoch 12/200\n",
            "344/344 [==============================] - 118s 343ms/step - loss: 0.1352 - acc: 0.9562 - val_loss: 0.1186 - val_acc: 0.9614\n",
            "Epoch 13/200\n",
            "344/344 [==============================] - 117s 341ms/step - loss: 0.1320 - acc: 0.9574 - val_loss: 0.1301 - val_acc: 0.9559\n",
            "Epoch 14/200\n",
            "344/344 [==============================] - 117s 340ms/step - loss: 0.1276 - acc: 0.9580 - val_loss: 0.1246 - val_acc: 0.9625\n",
            "Epoch 15/200\n",
            "344/344 [==============================] - 117s 339ms/step - loss: 0.1293 - acc: 0.9587 - val_loss: 0.1158 - val_acc: 0.9633\n",
            "Epoch 16/200\n",
            "344/344 [==============================] - 117s 341ms/step - loss: 0.1249 - acc: 0.9590 - val_loss: 0.1093 - val_acc: 0.9642\n"
          ],
          "name": "stdout"
        }
      ]
    },
    {
      "metadata": {
        "id": "IdSgY4vbGQKC",
        "colab_type": "code",
        "outputId": "b1dd7117-49fb-450b-c07a-2204d871f335",
        "colab": {
          "base_uri": "https://localhost:8080/",
          "height": 573
        }
      },
      "cell_type": "code",
      "source": [
        "# Summarize history for accuracy\n",
        "plt.plot(history.history['acc'])\n",
        "plt.plot(history.history['val_acc'])\n",
        "plt.title('model accuracy')\n",
        "plt.ylabel('accuracy')\n",
        "plt.xlabel('epoch')\n",
        "plt.legend(['train', 'test'], loc='upper left')\n",
        "plt.show()\n",
        "\n",
        "# Summarize history for loss\n",
        "plt.plot(history.history['loss'])\n",
        "plt.plot(history.history['val_loss'])\n",
        "plt.title('model loss')\n",
        "plt.ylabel('loss')\n",
        "plt.xlabel('epoch')\n",
        "plt.legend(['train', 'test'], loc='lower right')\n",
        "plt.show()"
      ],
      "execution_count": 34,
      "outputs": [
        {
          "output_type": "display_data",
          "data": {
            "image/png": "[encoded data removed]",
            "text/plain": [
              "<Figure size 432x288 with 1 Axes>"
            ]
          },
          "metadata": {
            "tags": []
          }
        },
        {
          "output_type": "display_data",
          "data": {
            "image/png": "[encoded data removed]",
            "text/plain": [
              "<Figure size 432x288 with 1 Axes>"
            ]
          },
          "metadata": {
            "tags": []
          }
        }
      ]
    }
  ]
}